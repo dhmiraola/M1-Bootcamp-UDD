{
 "cells": [
  {
   "attachments": {
    "diplomado-en-ia.webp": {
     "image/webp": "[encoded data removed]"
    }
   },
   "cell_type": "markdown",
   "metadata": {},
   "source": [
    "![diplomado-en-ia.webp](attachment:diplomado-en-ia.webp)\n",
    "### Bases de Datos Relacionales (SQL)\n",
    "#### Profesor: Diego Miranda Olavarria\n",
    "#### Data Scientist"
   ]
  },
  {
   "cell_type": "code",
   "execution_count": null,
   "metadata": {},
   "outputs": [],
   "source": [
    "# !pip install ipython-sql\n",
    "# !pip install sqlite3\n",
    "# !pip install sqlalchemy"
   ]
  },
  {
   "cell_type": "code",
   "execution_count": null,
   "metadata": {
    "colab": {
     "base_uri": "https://localhost:8080/"
    },
    "id": "yD7OPEzY2QDg",
    "outputId": "754ef80a-8347-4bcd-b029-5b32f7bd2410"
   },
   "outputs": [],
   "source": [
    "import sqlite3\n",
    "%load_ext sql"
   ]
  },
  {
   "cell_type": "code",
   "execution_count": null,
   "metadata": {
    "colab": {
     "base_uri": "https://localhost:8080/",
     "height": 35
    },
    "id": "s18VHoNKrXlQ",
    "outputId": "d122f8c0-a55a-492a-ecb8-7db1badec458"
   },
   "outputs": [],
   "source": [
    "%sql sqlite:///webshop1.db"
   ]
  },
  {
   "cell_type": "code",
   "execution_count": null,
   "metadata": {
    "colab": {
     "base_uri": "https://localhost:8080/"
    },
    "id": "tfMp-t4nN830",
    "outputId": "28438dce-ae6b-4f1e-ded7-a63296e7fb69"
   },
   "outputs": [],
   "source": [
    "%sql PRAGMA foreign_keys = ON;"
   ]
  },
  {
   "cell_type": "code",
   "execution_count": null,
   "metadata": {},
   "outputs": [],
   "source": [
    "%sql CREATE TABLE Productos (id_producto int PRIMARY KEY, nombre char(20), reseña char(100))"
   ]
  },
  {
   "cell_type": "code",
   "execution_count": null,
   "metadata": {},
   "outputs": [],
   "source": [
    "%sql CREATE TABLE Clientes (id_cliente int PRIMARY KEY, nombre char(50), correo char(50), direccion char(100))"
   ]
  },
  {
   "cell_type": "code",
   "execution_count": null,
   "metadata": {
    "id": "kcLE4g4hPG3a"
   },
   "outputs": [],
   "source": [
    "%sql CREATE TABLE Despacho (id_despacho INT PRIMARY KEY, cliente_id INT, producto_id INT, fecha_despacho DATE, direccion_envio CHAR(100), FOREIGN KEY (cliente_id) REFERENCES Clientes(id_cliente), FOREIGN KEY (producto_id) REFERENCES Productos(id_producto));"
   ]
  }
 ],
 "metadata": {
  "colab": {
   "name": "Actividad Diplomado.ipynb",
   "provenance": []
  },
  "kernelspec": {
   "display_name": "Python 3 (ipykernel)",
   "language": "python",
   "name": "python3"
  },
  "language_info": {
   "codemirror_mode": {
    "name": "ipython",
    "version": 3
   },
   "file_extension": ".py",
   "mimetype": "text/x-python",
   "name": "python",
   "nbconvert_exporter": "python",
   "pygments_lexer": "ipython3",
   "version": "3.11.5"
  }
 },
 "nbformat": 4,
 "nbformat_minor": 1
}
