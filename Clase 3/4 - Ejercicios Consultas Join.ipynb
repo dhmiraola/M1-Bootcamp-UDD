{
 "cells": [
  {
   "cell_type": "code",
   "execution_count": null,
   "metadata": {},
   "outputs": [],
   "source": [
    "# !pip install ipython-sql\n",
    "# !pip install sqlite3\n",
    "# !pip install sqlalchemy"
   ]
  },
  {
   "cell_type": "code",
   "execution_count": null,
   "metadata": {
    "colab": {
     "base_uri": "https://localhost:8080/"
    },
    "id": "yD7OPEzY2QDg",
    "outputId": "754ef80a-8347-4bcd-b029-5b32f7bd2410"
   },
   "outputs": [],
   "source": [
    "import sqlite3\n",
    "%load_ext sql"
   ]
  },
  {
   "cell_type": "code",
   "execution_count": null,
   "metadata": {
    "colab": {
     "base_uri": "https://localhost:8080/",
     "height": 35
    },
    "id": "s18VHoNKrXlQ",
    "outputId": "d122f8c0-a55a-492a-ecb8-7db1badec458"
   },
   "outputs": [],
   "source": [
    "%sql sqlite:///webshop.db"
   ]
  },
  {
   "cell_type": "code",
   "execution_count": null,
   "metadata": {
    "colab": {
     "base_uri": "https://localhost:8080/"
    },
    "id": "tfMp-t4nN830",
    "outputId": "28438dce-ae6b-4f1e-ded7-a63296e7fb69"
   },
   "outputs": [],
   "source": [
    "%sql PRAGMA foreign_keys = ON;"
   ]
  },
  {
   "cell_type": "code",
   "execution_count": null,
   "metadata": {},
   "outputs": [],
   "source": [
    "%sql CREATE TABLE Productos (id_producto int PRIMARY KEY, nombre char(20), reseña char(100))"
   ]
  },
  {
   "cell_type": "code",
   "execution_count": null,
   "metadata": {},
   "outputs": [],
   "source": [
    "%%sql\n",
    "INSERT INTO Productos VALUES(1, \"Nombre1\", \"Producto1\");\n",
    "INSERT INTO Productos VALUES(2, \"Nombre2\", \"Producto2\");\n",
    "INSERT INTO Productos VALUES(3, \"Nombre3\", \"Producto3\");\n",
    "INSERT INTO Productos VALUES(4, \"Nombre4\", \"Producto4\");\n",
    "INSERT INTO Productos VALUES(5, \"Nombre5\", \"Producto5\");"
   ]
  },
  {
   "cell_type": "code",
   "execution_count": null,
   "metadata": {},
   "outputs": [],
   "source": [
    "%sql CREATE TABLE Clientes (id_cliente int PRIMARY KEY, nombre char(50), correo char(50), direccion char(100))"
   ]
  },
  {
   "cell_type": "code",
   "execution_count": null,
   "metadata": {},
   "outputs": [],
   "source": [
    "%%sql\n",
    "INSERT INTO Clientes VALUES(1, \"Nombre1\", \"cliente1@webshop.com\", \"Direccion1\");\n",
    "INSERT INTO Clientes VALUES(2, \"Nombre2\", \"cliente2@webshop.com\", \"Direccion2\");\n",
    "INSERT INTO Clientes VALUES(3, \"Nombre3\", \"cliente3@webshop.com\", \"Direccion3\");\n",
    "INSERT INTO Clientes VALUES(4, \"Nombre4\", \"cliente4@webshop.com\", \"Direccion4\");\n",
    "INSERT INTO Clientes VALUES(5, \"Nombre5\", \"cliente5@webshop.com\", \"Direccion5\")"
   ]
  },
  {
   "cell_type": "code",
   "execution_count": null,
   "metadata": {
    "id": "kcLE4g4hPG3a"
   },
   "outputs": [],
   "source": [
    "%sql CREATE TABLE Despacho (id_despacho INT PRIMARY KEY, cliente_id INT, producto_id INT, fecha_despacho DATE, direccion_envio CHAR(100), FOREIGN KEY (cliente_id) REFERENCES Clientes(id_cliente), FOREIGN KEY (producto_id) REFERENCES Productos(id_producto));"
   ]
  },
  {
   "cell_type": "code",
   "execution_count": null,
   "metadata": {},
   "outputs": [],
   "source": [
    "%sql INSERT INTO Despacho  VALUES (1, 1, 1, '2024-01-15', 'Direccion1');\n",
    "%sql INSERT INTO Despacho  VALUES (2, 2, 2, '2024-02-10', 'Direccion2');\n",
    "%sql INSERT INTO Despacho  VALUES (3, 3, 3, '2024-03-05', 'Direccion3');\n",
    "%sql INSERT INTO Despacho  VALUES (4, 4, 4, '2024-04-20', 'Direccion4');\n",
    "%sql INSERT INTO Despacho  VALUES (5, 5, 5, '2024-05-15', 'Direccion5');\n"
   ]
  },
  {
   "cell_type": "markdown",
   "metadata": {},
   "source": [
    "### Calcular el total de despachos por cada cliente"
   ]
  },
  {
   "cell_type": "code",
   "execution_count": null,
   "metadata": {},
   "outputs": [],
   "source": [
    "%%sql\n",
    "SELECT Clientes.nombre AS cliente, COUNT(Despacho.id_despacho) AS total_despachos\n",
    "FROM Despacho\n",
    "JOIN Clientes ON Despacho.cliente_id = Clientes.id_cliente\n",
    "GROUP BY Clientes.nombre;"
   ]
  },
  {
   "cell_type": "markdown",
   "metadata": {},
   "source": [
    "### Mostrar la cantidad de despachos por cada cliente"
   ]
  },
  {
   "cell_type": "code",
   "execution_count": null,
   "metadata": {},
   "outputs": [],
   "source": [
    "%%sql\n",
    "SELECT Clientes.nombre AS cliente, COUNT(Despacho.id_despacho) AS total_despachos\n",
    "FROM Despacho\n",
    "JOIN Clientes ON Despacho.cliente_id = Clientes.id_cliente\n",
    "GROUP BY Clientes.nombre;"
   ]
  },
  {
   "cell_type": "markdown",
   "metadata": {},
   "source": [
    "### Mostrar al cliente con mayor número de despachos"
   ]
  },
  {
   "cell_type": "code",
   "execution_count": null,
   "metadata": {},
   "outputs": [],
   "source": [
    "%%sql\n",
    "SELECT Clientes.nombre, COUNT(Despacho.id_despacho) AS total_despachos\n",
    "FROM Despacho\n",
    "JOIN Clientes ON Despacho.cliente_id = Clientes.id_cliente\n",
    "GROUP BY Clientes.nombre\n",
    "ORDER BY total_despachos DESC\n",
    "LIMIT 1;\n"
   ]
  },
  {
   "cell_type": "markdown",
   "metadata": {},
   "source": [
    "### Mostrar todos los despachos con el nombre, producto y fecha"
   ]
  },
  {
   "cell_type": "code",
   "execution_count": null,
   "metadata": {},
   "outputs": [],
   "source": [
    "%%sql\n",
    "SELECT Despacho.id_despacho, Clientes.nombre AS cliente, Productos.nombre AS producto, Despacho.fecha_despacho\n",
    "FROM Despacho\n",
    "JOIN Clientes ON Despacho.cliente_id = Clientes.id_cliente\n",
    "JOIN Productos ON Despacho.producto_id = Productos.id_producto;"
   ]
  },
  {
   "cell_type": "markdown",
   "metadata": {},
   "source": [
    "### Mostrar cada producto que ha sido comprado por cada cliente"
   ]
  },
  {
   "cell_type": "code",
   "execution_count": null,
   "metadata": {},
   "outputs": [],
   "source": [
    "%%sql\n",
    "SELECT Productos.nombre AS producto, Clientes.nombre AS cliente\n",
    "FROM Despacho\n",
    "JOIN Productos ON Despacho.producto_id = Productos.id_producto\n",
    "JOIN Clientes ON Despacho.cliente_id = Clientes.id_cliente;"
   ]
  }
 ],
 "metadata": {
  "colab": {
   "name": "Actividad Diplomado.ipynb",
   "provenance": []
  },
  "kernelspec": {
   "display_name": "Python 3 (ipykernel)",
   "language": "python",
   "name": "python3"
  },
  "language_info": {
   "codemirror_mode": {
    "name": "ipython",
    "version": 3
   },
   "file_extension": ".py",
   "mimetype": "text/x-python",
   "name": "python",
   "nbconvert_exporter": "python",
   "pygments_lexer": "ipython3",
   "version": "3.11.5"
  }
 },
 "nbformat": 4,
 "nbformat_minor": 1
}
