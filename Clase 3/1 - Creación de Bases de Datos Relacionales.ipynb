{
 "cells": [
  {
   "attachments": {
    "diplomado-en-ia.webp": {
     "image/webp": "[encoded data removed]"
    }
   },
   "cell_type": "markdown",
   "metadata": {},
   "source": [
    "![diplomado-en-ia.webp](attachment:diplomado-en-ia.webp)\n",
    "\n",
    "### Bases de Datos Relacionales (SQL)\n",
    "#### Profesor: Diego Miranda Olavarria\n",
    "#### Data Scientist"
   ]
  },
  {
   "cell_type": "code",
   "execution_count": null,
   "metadata": {},
   "outputs": [],
   "source": [
    "# !pip install ipython-sql\n",
    "# !pip install sqlite3\n",
    "# !pip install sqlalchemy\n",
    "# !pip install prettytable==3.5.0"
   ]
  },
  {
   "cell_type": "code",
   "execution_count": 1,
   "metadata": {
    "colab": {
     "base_uri": "https://localhost:8080/"
    },
    "id": "yD7OPEzY2QDg",
    "outputId": "754ef80a-8347-4bcd-b029-5b32f7bd2410"
   },
   "outputs": [],
   "source": [
    "import sqlite3\n",
    "%load_ext sql"
   ]
  },
  {
   "cell_type": "markdown",
   "metadata": {
    "id": "t9XwQtSMsNBP"
   },
   "source": [
    "## Creacion de una base de datos"
   ]
  },
  {
   "cell_type": "markdown",
   "metadata": {
    "id": "6M20vuaW2Ff1"
   },
   "source": [
    "Para ejecutar comandos SQL en este entorno, antepondremos siempre `%sql` en las celdas a ejecutar. \n",
    "\n",
    "Lo primero que haremos sera crear nuestra base de datos: "
   ]
  },
  {
   "cell_type": "code",
   "execution_count": 2,
   "metadata": {
    "colab": {
     "base_uri": "https://localhost:8080/",
     "height": 35
    },
    "id": "s18VHoNKrXlQ",
    "outputId": "d122f8c0-a55a-492a-ecb8-7db1badec458"
   },
   "outputs": [],
   "source": [
    "%sql sqlite:///database.db"
   ]
  },
  {
   "cell_type": "markdown",
   "metadata": {
    "id": "k3PzX3KkST1V"
   },
   "source": [
    "Esto lo necesitamos ya que sqlite por defecto no revisa las condiciones de Foreign Keys"
   ]
  },
  {
   "cell_type": "code",
   "execution_count": 3,
   "metadata": {
    "colab": {
     "base_uri": "https://localhost:8080/"
    },
    "id": "tfMp-t4nN830",
    "outputId": "28438dce-ae6b-4f1e-ded7-a63296e7fb69"
   },
   "outputs": [
    {
     "name": "stdout",
     "output_type": "stream",
     "text": [
      " * sqlite:///database.db\n",
      "Done.\n"
     ]
    },
    {
     "data": {
      "text/plain": [
       "[]"
      ]
     },
     "execution_count": 3,
     "metadata": {},
     "output_type": "execute_result"
    }
   ],
   "source": [
    "%sql PRAGMA foreign_keys = ON;"
   ]
  },
  {
   "cell_type": "markdown",
   "metadata": {
    "id": "TM8SONzY2lMT"
   },
   "source": [
    "Ya tenemos creada nuestra base de datos, asi que ahora debemos insertar las tablas que estipulamos en el esquema. Para crear tablas usamos el siguiente comando:\n",
    "\n",
    "```\n",
    "%sql CREATE TABLE <Nombre Tabla> (<atributo_1> tipo_1, ... , <attributo_N> tipo_N)\n",
    "```\n",
    "\n",
    "donde:\n",
    "\n",
    "\n",
    "*   `<Nombre Tabla>` corresponde al nombre de la tabla\n",
    "*  `<atributo_i>`, `tipo_i` corresponde al nombre del atributo 1 y a su tipo\n",
    "\n",
    "Para identificar la PRIMARY KEY simplemente escribimos `PRIMARY KEY` despues del tipo del atributo correspondiente. Por ejemplo, si el `<atributo_1>` es la PRIMARY KEY, entonces el comando queda \n",
    "```\n",
    "%sql CREATE TABLE <Nombre Tabla> (<atributo_1> tipo_1 PRIMARY KEY, ... , <attributo_N> tipo_N)\n",
    "```\n",
    "\n",
    "Alternativamente, podemos especificar la primary key despues de declarar todos los atributos. Supongamos que `<atributo_1>` y `<atributo_2>` son PRIMARY KEY de la tabla, entonces el comando queda: \n",
    "```\n",
    "%sql CREATE TABLE <Nombre Tabla> (<atributo_1> tipo_1, <atributo_2> tipo_2 , ... <attributo_N> tipo_N, PRIMARY KEY(<atributo_1>, <atributo_2>))\n",
    "```\n",
    "\n",
    "Ahora creemos las tablas en nuestra base de datos: "
   ]
  },
  {
   "cell_type": "code",
   "execution_count": 4,
   "metadata": {
    "colab": {
     "base_uri": "https://localhost:8080/"
    },
    "id": "Koi4J_Oz4oYi",
    "outputId": "eac5d0ac-aaad-4e8b-d293-5f19a623a690"
   },
   "outputs": [
    {
     "name": "stdout",
     "output_type": "stream",
     "text": [
      " * sqlite:///database.db\n",
      "Done.\n"
     ]
    },
    {
     "data": {
      "text/plain": [
       "[]"
      ]
     },
     "execution_count": 4,
     "metadata": {},
     "output_type": "execute_result"
    }
   ],
   "source": [
    "%sql CREATE TABLE Productos (id_producto int PRIMARY KEY, nombre char(20), reseña char(100))"
   ]
  },
  {
   "cell_type": "code",
   "execution_count": 5,
   "metadata": {
    "colab": {
     "base_uri": "https://localhost:8080/",
     "height": 75
    },
    "id": "yAaNI4CmSOOC",
    "outputId": "98db1487-9a15-4f71-d9a8-55af5818e906"
   },
   "outputs": [
    {
     "name": "stdout",
     "output_type": "stream",
     "text": [
      " * sqlite:///database.db\n",
      "Done.\n"
     ]
    },
    {
     "data": {
      "text/html": [
       "<table>\n",
       "    <thead>\n",
       "        <tr>\n",
       "            <th>id_producto</th>\n",
       "            <th>nombre</th>\n",
       "            <th>reseña</th>\n",
       "        </tr>\n",
       "    </thead>\n",
       "    <tbody>\n",
       "    </tbody>\n",
       "</table>"
      ],
      "text/plain": [
       "[]"
      ]
     },
     "execution_count": 5,
     "metadata": {},
     "output_type": "execute_result"
    }
   ],
   "source": [
    "%%sql\n",
    "SELECT *\n",
    "FROM Productos;"
   ]
  },
  {
   "cell_type": "markdown",
   "metadata": {
    "id": "qZJGfMfNU4ZO"
   },
   "source": [
    "### Eliminar tablas"
   ]
  },
  {
   "cell_type": "markdown",
   "metadata": {
    "id": "6Qy-He3ZK1kV"
   },
   "source": [
    "Para eliminar tablas usamos el siguiente comando\n",
    "\n",
    "\n",
    "\n",
    "```\n",
    "%%sql\n",
    "DROP TABLE <Tabla>;\n",
    "```\n",
    "\n"
   ]
  },
  {
   "cell_type": "markdown",
   "metadata": {
    "id": "h9xEnhZGoQss"
   },
   "source": [
    "Por ejemplo si queremos eliminar la tabla Productos, hacemos: "
   ]
  },
  {
   "cell_type": "code",
   "execution_count": 6,
   "metadata": {
    "colab": {
     "base_uri": "https://localhost:8080/"
    },
    "id": "zLQF-_uPU95T",
    "outputId": "8683f460-466e-46e6-96e6-5df98f289a95"
   },
   "outputs": [
    {
     "name": "stdout",
     "output_type": "stream",
     "text": [
      " * sqlite:///database.db\n",
      "Done.\n"
     ]
    },
    {
     "data": {
      "text/plain": [
       "[]"
      ]
     },
     "execution_count": 6,
     "metadata": {},
     "output_type": "execute_result"
    }
   ],
   "source": [
    "%%sql \n",
    "DROP TABLE Productos;"
   ]
  },
  {
   "cell_type": "markdown",
   "metadata": {
    "id": "WS6LRx86rifH"
   },
   "source": [
    "Volvemos a crear la tabla, ya que la vamos a ocupar."
   ]
  },
  {
   "cell_type": "code",
   "execution_count": 7,
   "metadata": {
    "colab": {
     "base_uri": "https://localhost:8080/"
    },
    "id": "fHU8Ys-Erlky",
    "outputId": "7d62e6cb-12e7-427b-d87b-d81486ea8efa"
   },
   "outputs": [
    {
     "name": "stdout",
     "output_type": "stream",
     "text": [
      " * sqlite:///database.db\n",
      "Done.\n"
     ]
    },
    {
     "data": {
      "text/plain": [
       "[]"
      ]
     },
     "execution_count": 7,
     "metadata": {},
     "output_type": "execute_result"
    }
   ],
   "source": [
    "%sql CREATE TABLE Productos (id_prod int PRIMARY KEY, nombre char(20), reseña char(100))"
   ]
  },
  {
   "cell_type": "code",
   "execution_count": 8,
   "metadata": {},
   "outputs": [
    {
     "name": "stdout",
     "output_type": "stream",
     "text": [
      " * sqlite:///database.db\n",
      "Done.\n"
     ]
    },
    {
     "data": {
      "text/html": [
       "<table>\n",
       "    <thead>\n",
       "        <tr>\n",
       "            <th>id_prod</th>\n",
       "            <th>nombre</th>\n",
       "            <th>reseña</th>\n",
       "        </tr>\n",
       "    </thead>\n",
       "    <tbody>\n",
       "    </tbody>\n",
       "</table>"
      ],
      "text/plain": [
       "[]"
      ]
     },
     "execution_count": 8,
     "metadata": {},
     "output_type": "execute_result"
    }
   ],
   "source": [
    "%%sql\n",
    "SELECT * \n",
    "FROM Productos;"
   ]
  },
  {
   "cell_type": "markdown",
   "metadata": {
    "id": "4IYLD2YLU-gK"
   },
   "source": [
    "### Modificar tablas"
   ]
  },
  {
   "cell_type": "markdown",
   "metadata": {
    "id": "M_j5ZoBioZlr"
   },
   "source": [
    "Para modificar tablas ya creadas usamos el comando ALTER TABLE.\n",
    "\n",
    "Por ejemplo para incorporar una nueva columna a la tabla hacemos: \n",
    "\n",
    "\n",
    "```\n",
    "%%sql\n",
    "ALTER TABLE table_name\n",
    "ADD column_name datatype;\n",
    "```\n",
    "Por ejemplo, si queremos añadir el año de cosecha a nuestra tabla Productos, hacemos: \n"
   ]
  },
  {
   "cell_type": "code",
   "execution_count": 9,
   "metadata": {
    "colab": {
     "base_uri": "https://localhost:8080/"
    },
    "id": "e-iFKnqtVAxR",
    "outputId": "9425efe7-0579-4d7a-a950-13f48881f031"
   },
   "outputs": [
    {
     "name": "stdout",
     "output_type": "stream",
     "text": [
      " * sqlite:///database.db\n",
      "Done.\n"
     ]
    },
    {
     "data": {
      "text/plain": [
       "[]"
      ]
     },
     "execution_count": 9,
     "metadata": {},
     "output_type": "execute_result"
    }
   ],
   "source": [
    "%%sql\n",
    "ALTER TABLE Productos\n",
    "ADD Stock int;"
   ]
  },
  {
   "cell_type": "code",
   "execution_count": 10,
   "metadata": {
    "colab": {
     "base_uri": "https://localhost:8080/",
     "height": 75
    },
    "id": "pkeNVrz9wYzR",
    "outputId": "3a97cde0-7e41-4370-f91e-a7be9c3ccb64"
   },
   "outputs": [
    {
     "name": "stdout",
     "output_type": "stream",
     "text": [
      " * sqlite:///database.db\n",
      "Done.\n"
     ]
    },
    {
     "data": {
      "text/html": [
       "<table>\n",
       "    <thead>\n",
       "        <tr>\n",
       "            <th>id_prod</th>\n",
       "            <th>nombre</th>\n",
       "            <th>reseña</th>\n",
       "            <th>Stock</th>\n",
       "        </tr>\n",
       "    </thead>\n",
       "    <tbody>\n",
       "    </tbody>\n",
       "</table>"
      ],
      "text/plain": [
       "[]"
      ]
     },
     "execution_count": 10,
     "metadata": {},
     "output_type": "execute_result"
    }
   ],
   "source": [
    "%%sql\n",
    "SELECT *\n",
    "FROM Productos;"
   ]
  },
  {
   "cell_type": "markdown",
   "metadata": {
    "id": "p5U52MO4sZRS"
   },
   "source": [
    "## Insertar, eliminar y modificar tuplas"
   ]
  },
  {
   "cell_type": "markdown",
   "metadata": {
    "id": "2dyYclJhOcCz"
   },
   "source": [
    "Bien, tenemos nuestra base de datos y nuestra tablas creada, pero aún no tienen datos!! \n",
    "\n",
    "Para este ejemplo, agregaremos de manera manual tuplas en cada una de las tablas y también mostraremos como eliminar o modificar tuplas ya ingresadas. "
   ]
  },
  {
   "cell_type": "markdown",
   "metadata": {
    "id": "aVNBSAAT5e3i"
   },
   "source": [
    "### Inserción"
   ]
  },
  {
   "cell_type": "markdown",
   "metadata": {
    "id": "uSK3Eyar4qSU"
   },
   "source": [
    "Para insertar una tupla a una tabla utilizamos el siguiente comando: \n",
    "\n",
    "\n",
    "```\n",
    "%%sql\n",
    "INSERT INTO <Nombre Tabla> \n",
    "VALUES (<valor atributo 1> , ..., <valor atributo N>)\n",
    "```\n",
    "En este caso usamos `%%sql` antes de escribir el comando SQL, esto nos permite escribir varias lineas de codigo en formato SQL. \n",
    "\n"
   ]
  },
  {
   "cell_type": "code",
   "execution_count": 11,
   "metadata": {
    "colab": {
     "base_uri": "https://localhost:8080/"
    },
    "id": "OrZ8wao_scms",
    "outputId": "06afaaf8-716b-4115-8403-db266ffaaac5"
   },
   "outputs": [
    {
     "name": "stdout",
     "output_type": "stream",
     "text": [
      " * sqlite:///database.db\n",
      "1 rows affected.\n"
     ]
    },
    {
     "data": {
      "text/plain": [
       "[]"
      ]
     },
     "execution_count": 11,
     "metadata": {},
     "output_type": "execute_result"
    }
   ],
   "source": [
    "%%sql\n",
    "INSERT INTO Productos VALUES(1, \"Nombre1\", \"Producto1\", 2);"
   ]
  },
  {
   "cell_type": "code",
   "execution_count": 12,
   "metadata": {
    "colab": {
     "base_uri": "https://localhost:8080/",
     "height": 95
    },
    "id": "cKnpwygAUk_p",
    "outputId": "8b76d773-b052-4963-ecce-072c8f273796"
   },
   "outputs": [
    {
     "name": "stdout",
     "output_type": "stream",
     "text": [
      " * sqlite:///database.db\n",
      "Done.\n"
     ]
    },
    {
     "data": {
      "text/html": [
       "<table>\n",
       "    <thead>\n",
       "        <tr>\n",
       "            <th>id_prod</th>\n",
       "            <th>nombre</th>\n",
       "            <th>reseña</th>\n",
       "            <th>Stock</th>\n",
       "        </tr>\n",
       "    </thead>\n",
       "    <tbody>\n",
       "        <tr>\n",
       "            <td>1</td>\n",
       "            <td>Nombre1</td>\n",
       "            <td>Producto1</td>\n",
       "            <td>2</td>\n",
       "        </tr>\n",
       "    </tbody>\n",
       "</table>"
      ],
      "text/plain": [
       "[(1, 'Nombre1', 'Producto1', 2)]"
      ]
     },
     "execution_count": 12,
     "metadata": {},
     "output_type": "execute_result"
    }
   ],
   "source": [
    "%%sql\n",
    "SELECT *\n",
    "FROM Productos;"
   ]
  },
  {
   "cell_type": "markdown",
   "metadata": {
    "id": "RBItGC66P2sq"
   },
   "source": [
    "Puedo ingresar varias tuplas a la vez!! No olvidemos demarcar el fin de cada linea con \";\""
   ]
  },
  {
   "cell_type": "code",
   "execution_count": 13,
   "metadata": {
    "colab": {
     "base_uri": "https://localhost:8080/"
    },
    "id": "4ZnZBjzyVb1b",
    "outputId": "3d801ca8-e66b-4163-b0bc-4d2599e29668"
   },
   "outputs": [
    {
     "name": "stdout",
     "output_type": "stream",
     "text": [
      " * sqlite:///database.db\n",
      "1 rows affected.\n",
      "1 rows affected.\n"
     ]
    },
    {
     "data": {
      "text/plain": [
       "[]"
      ]
     },
     "execution_count": 13,
     "metadata": {},
     "output_type": "execute_result"
    }
   ],
   "source": [
    "%%sql\n",
    "INSERT INTO Productos VALUES(2, \"Nombre2\", \"Producto2\", 4);\n",
    "INSERT INTO Productos VALUES(3, \"Nombre3\", \"Producto2\", 6);"
   ]
  },
  {
   "cell_type": "code",
   "execution_count": 14,
   "metadata": {
    "colab": {
     "base_uri": "https://localhost:8080/",
     "height": 137
    },
    "id": "Ar118lXow2aq",
    "outputId": "41ce7f01-ba71-48b7-908b-f437d1919d49"
   },
   "outputs": [
    {
     "name": "stdout",
     "output_type": "stream",
     "text": [
      " * sqlite:///database.db\n",
      "Done.\n"
     ]
    },
    {
     "data": {
      "text/html": [
       "<table>\n",
       "    <thead>\n",
       "        <tr>\n",
       "            <th>id_prod</th>\n",
       "            <th>nombre</th>\n",
       "            <th>reseña</th>\n",
       "            <th>Stock</th>\n",
       "        </tr>\n",
       "    </thead>\n",
       "    <tbody>\n",
       "        <tr>\n",
       "            <td>1</td>\n",
       "            <td>Nombre1</td>\n",
       "            <td>Producto1</td>\n",
       "            <td>2</td>\n",
       "        </tr>\n",
       "        <tr>\n",
       "            <td>2</td>\n",
       "            <td>Nombre2</td>\n",
       "            <td>Producto2</td>\n",
       "            <td>4</td>\n",
       "        </tr>\n",
       "        <tr>\n",
       "            <td>3</td>\n",
       "            <td>Nombre3</td>\n",
       "            <td>Producto2</td>\n",
       "            <td>6</td>\n",
       "        </tr>\n",
       "    </tbody>\n",
       "</table>"
      ],
      "text/plain": [
       "[(1, 'Nombre1', 'Producto1', 2),\n",
       " (2, 'Nombre2', 'Producto2', 4),\n",
       " (3, 'Nombre3', 'Producto2', 6)]"
      ]
     },
     "execution_count": 14,
     "metadata": {},
     "output_type": "execute_result"
    }
   ],
   "source": [
    "%%sql\n",
    "SELECT *\n",
    "FROM Productos;"
   ]
  },
  {
   "cell_type": "markdown",
   "metadata": {
    "id": "wpEtQrWBQqEg"
   },
   "source": [
    "Qué pasa si intentamos ingresar un producto con la misma primary key que otra?"
   ]
  },
  {
   "cell_type": "code",
   "execution_count": 15,
   "metadata": {
    "colab": {
     "base_uri": "https://localhost:8080/",
     "height": 554
    },
    "id": "w_LzrjQYQw2K",
    "outputId": "a794262e-9962-4217-9625-4e2a4a891be0"
   },
   "outputs": [
    {
     "name": "stdout",
     "output_type": "stream",
     "text": [
      " * sqlite:///database.db\n",
      "(sqlite3.IntegrityError) UNIQUE constraint failed: Productos.id_prod\n",
      "[SQL: INSERT INTO Productos VALUES(3, \"Nombre3\", \"Producto2\", 6);]\n",
      "(Background on this error at: https://sqlalche.me/e/20/gkpj)\n"
     ]
    }
   ],
   "source": [
    "%%sql\n",
    "INSERT INTO Productos VALUES(3, \"Nombre3\", \"Producto2\", 6);"
   ]
  },
  {
   "cell_type": "code",
   "execution_count": 16,
   "metadata": {
    "colab": {
     "base_uri": "https://localhost:8080/",
     "height": 137
    },
    "id": "tzLqWabxVGcK",
    "outputId": "140e576c-395f-412c-960d-c207313c7c51"
   },
   "outputs": [
    {
     "name": "stdout",
     "output_type": "stream",
     "text": [
      " * sqlite:///database.db\n",
      "Done.\n"
     ]
    },
    {
     "data": {
      "text/html": [
       "<table>\n",
       "    <thead>\n",
       "        <tr>\n",
       "            <th>id_prod</th>\n",
       "            <th>nombre</th>\n",
       "            <th>reseña</th>\n",
       "            <th>Stock</th>\n",
       "        </tr>\n",
       "    </thead>\n",
       "    <tbody>\n",
       "        <tr>\n",
       "            <td>1</td>\n",
       "            <td>Nombre1</td>\n",
       "            <td>Producto1</td>\n",
       "            <td>2</td>\n",
       "        </tr>\n",
       "        <tr>\n",
       "            <td>2</td>\n",
       "            <td>Nombre2</td>\n",
       "            <td>Producto2</td>\n",
       "            <td>4</td>\n",
       "        </tr>\n",
       "        <tr>\n",
       "            <td>3</td>\n",
       "            <td>Nombre3</td>\n",
       "            <td>Producto2</td>\n",
       "            <td>6</td>\n",
       "        </tr>\n",
       "    </tbody>\n",
       "</table>"
      ],
      "text/plain": [
       "[(1, 'Nombre1', 'Producto1', 2),\n",
       " (2, 'Nombre2', 'Producto2', 4),\n",
       " (3, 'Nombre3', 'Producto2', 6)]"
      ]
     },
     "execution_count": 16,
     "metadata": {},
     "output_type": "execute_result"
    }
   ],
   "source": [
    "%%sql\n",
    "SELECT *\n",
    "FROM Productos;"
   ]
  },
  {
   "cell_type": "markdown",
   "metadata": {
    "id": "z1CppP3Z5jhw"
   },
   "source": [
    "### Modificación"
   ]
  },
  {
   "cell_type": "markdown",
   "metadata": {
    "id": "ra6s-9qjGssd"
   },
   "source": [
    "\n",
    "\n",
    "```\n",
    "UPDATE Nombre_Tabla\n",
    "SET columna = valor_nuevo\n",
    "WHERE <condicion>\n",
    "```\n",
    "\n"
   ]
  },
  {
   "cell_type": "markdown",
   "metadata": {
    "id": "_2OGJnf05l_7"
   },
   "source": [
    "Si, por ejemplo, el producto con id 1 cambia su nombre, necesitaremos modificar la tupla. Para eso usamos el siguiente comando\n",
    "\n"
   ]
  },
  {
   "cell_type": "code",
   "execution_count": 17,
   "metadata": {
    "id": "omJZN7Yua9lv"
   },
   "outputs": [
    {
     "name": "stdout",
     "output_type": "stream",
     "text": [
      " * sqlite:///database.db\n",
      "Done.\n"
     ]
    },
    {
     "data": {
      "text/html": [
       "<table>\n",
       "    <thead>\n",
       "        <tr>\n",
       "            <th>id_prod</th>\n",
       "            <th>nombre</th>\n",
       "            <th>reseña</th>\n",
       "            <th>Stock</th>\n",
       "        </tr>\n",
       "    </thead>\n",
       "    <tbody>\n",
       "        <tr>\n",
       "            <td>1</td>\n",
       "            <td>Nombre1</td>\n",
       "            <td>Producto1</td>\n",
       "            <td>2</td>\n",
       "        </tr>\n",
       "        <tr>\n",
       "            <td>2</td>\n",
       "            <td>Nombre2</td>\n",
       "            <td>Producto2</td>\n",
       "            <td>4</td>\n",
       "        </tr>\n",
       "        <tr>\n",
       "            <td>3</td>\n",
       "            <td>Nombre3</td>\n",
       "            <td>Producto2</td>\n",
       "            <td>6</td>\n",
       "        </tr>\n",
       "    </tbody>\n",
       "</table>"
      ],
      "text/plain": [
       "[(1, 'Nombre1', 'Producto1', 2),\n",
       " (2, 'Nombre2', 'Producto2', 4),\n",
       " (3, 'Nombre3', 'Producto2', 6)]"
      ]
     },
     "execution_count": 17,
     "metadata": {},
     "output_type": "execute_result"
    }
   ],
   "source": [
    "%%sql\n",
    "SELECT *\n",
    "FROM Productos;"
   ]
  },
  {
   "cell_type": "code",
   "execution_count": 18,
   "metadata": {
    "colab": {
     "base_uri": "https://localhost:8080/"
    },
    "id": "rWN-puUu5mGI",
    "outputId": "92d19bfa-58b4-446e-abb5-802bf998f363"
   },
   "outputs": [
    {
     "name": "stdout",
     "output_type": "stream",
     "text": [
      " * sqlite:///database.db\n",
      "1 rows affected.\n"
     ]
    },
    {
     "data": {
      "text/plain": [
       "[]"
      ]
     },
     "execution_count": 18,
     "metadata": {},
     "output_type": "execute_result"
    }
   ],
   "source": [
    "%%sql\n",
    "UPDATE Productos \n",
    "SET \n",
    "    nombre = \"5\"\n",
    "WHERE\n",
    "    id_prod = 1;"
   ]
  },
  {
   "cell_type": "code",
   "execution_count": 19,
   "metadata": {
    "colab": {
     "base_uri": "https://localhost:8080/",
     "height": 157
    },
    "id": "sMs-EITobE-n",
    "outputId": "8ffa7a35-e430-4b45-f16b-ba13e239d85b"
   },
   "outputs": [
    {
     "name": "stdout",
     "output_type": "stream",
     "text": [
      " * sqlite:///database.db\n",
      "Done.\n"
     ]
    },
    {
     "data": {
      "text/html": [
       "<table>\n",
       "    <thead>\n",
       "        <tr>\n",
       "            <th>id_prod</th>\n",
       "            <th>nombre</th>\n",
       "            <th>reseña</th>\n",
       "            <th>Stock</th>\n",
       "        </tr>\n",
       "    </thead>\n",
       "    <tbody>\n",
       "        <tr>\n",
       "            <td>1</td>\n",
       "            <td>5</td>\n",
       "            <td>Producto1</td>\n",
       "            <td>2</td>\n",
       "        </tr>\n",
       "        <tr>\n",
       "            <td>2</td>\n",
       "            <td>Nombre2</td>\n",
       "            <td>Producto2</td>\n",
       "            <td>4</td>\n",
       "        </tr>\n",
       "        <tr>\n",
       "            <td>3</td>\n",
       "            <td>Nombre3</td>\n",
       "            <td>Producto2</td>\n",
       "            <td>6</td>\n",
       "        </tr>\n",
       "    </tbody>\n",
       "</table>"
      ],
      "text/plain": [
       "[(1, '5', 'Producto1', 2),\n",
       " (2, 'Nombre2', 'Producto2', 4),\n",
       " (3, 'Nombre3', 'Producto2', 6)]"
      ]
     },
     "execution_count": 19,
     "metadata": {},
     "output_type": "execute_result"
    }
   ],
   "source": [
    "%%sql\n",
    "SELECT *\n",
    "FROM Productos;"
   ]
  },
  {
   "cell_type": "markdown",
   "metadata": {
    "id": "DK0Y7uqL5mqQ"
   },
   "source": [
    "### Eliminación"
   ]
  },
  {
   "cell_type": "markdown",
   "metadata": {
    "id": "P4kGoSQm5vc5"
   },
   "source": [
    "Finalmente, si deseamos eliminar alguna tupla podemos hacerlo mediante \n",
    "\n",
    "\n",
    "```\n",
    "%%sql\n",
    "DELETE FROM table_name WHERE condition;\n",
    "```\n",
    "\n"
   ]
  },
  {
   "cell_type": "code",
   "execution_count": 20,
   "metadata": {
    "colab": {
     "base_uri": "https://localhost:8080/",
     "height": 157
    },
    "id": "YAnDC7PnybW9",
    "outputId": "b76cb374-87d9-4a9b-bd11-9045bba1799d"
   },
   "outputs": [
    {
     "name": "stdout",
     "output_type": "stream",
     "text": [
      " * sqlite:///database.db\n",
      "Done.\n"
     ]
    },
    {
     "data": {
      "text/html": [
       "<table>\n",
       "    <thead>\n",
       "        <tr>\n",
       "            <th>id_prod</th>\n",
       "            <th>nombre</th>\n",
       "            <th>reseña</th>\n",
       "            <th>Stock</th>\n",
       "        </tr>\n",
       "    </thead>\n",
       "    <tbody>\n",
       "        <tr>\n",
       "            <td>1</td>\n",
       "            <td>5</td>\n",
       "            <td>Producto1</td>\n",
       "            <td>2</td>\n",
       "        </tr>\n",
       "        <tr>\n",
       "            <td>2</td>\n",
       "            <td>Nombre2</td>\n",
       "            <td>Producto2</td>\n",
       "            <td>4</td>\n",
       "        </tr>\n",
       "        <tr>\n",
       "            <td>3</td>\n",
       "            <td>Nombre3</td>\n",
       "            <td>Producto2</td>\n",
       "            <td>6</td>\n",
       "        </tr>\n",
       "    </tbody>\n",
       "</table>"
      ],
      "text/plain": [
       "[(1, '5', 'Producto1', 2),\n",
       " (2, 'Nombre2', 'Producto2', 4),\n",
       " (3, 'Nombre3', 'Producto2', 6)]"
      ]
     },
     "execution_count": 20,
     "metadata": {},
     "output_type": "execute_result"
    }
   ],
   "source": [
    "%%sql\n",
    "SELECT *\n",
    "FROM Productos;"
   ]
  },
  {
   "cell_type": "code",
   "execution_count": 21,
   "metadata": {
    "colab": {
     "base_uri": "https://localhost:8080/"
    },
    "id": "UVd8PTYUHShB",
    "outputId": "612c221c-f216-4091-827a-d9df1f5ddb21"
   },
   "outputs": [
    {
     "name": "stdout",
     "output_type": "stream",
     "text": [
      " * sqlite:///database.db\n",
      "1 rows affected.\n"
     ]
    },
    {
     "data": {
      "text/plain": [
       "[]"
      ]
     },
     "execution_count": 21,
     "metadata": {},
     "output_type": "execute_result"
    }
   ],
   "source": [
    "%%sql\n",
    "DELETE FROM Productos WHERE id_prod = 1;"
   ]
  },
  {
   "cell_type": "code",
   "execution_count": 22,
   "metadata": {
    "colab": {
     "base_uri": "https://localhost:8080/",
     "height": 137
    },
    "id": "AJVx-zBI6AB5",
    "outputId": "1d371d66-01e5-42a9-ef35-e0fc10aecf78"
   },
   "outputs": [
    {
     "name": "stdout",
     "output_type": "stream",
     "text": [
      " * sqlite:///database.db\n",
      "Done.\n"
     ]
    },
    {
     "data": {
      "text/html": [
       "<table>\n",
       "    <thead>\n",
       "        <tr>\n",
       "            <th>id_prod</th>\n",
       "            <th>nombre</th>\n",
       "            <th>reseña</th>\n",
       "            <th>Stock</th>\n",
       "        </tr>\n",
       "    </thead>\n",
       "    <tbody>\n",
       "        <tr>\n",
       "            <td>2</td>\n",
       "            <td>Nombre2</td>\n",
       "            <td>Producto2</td>\n",
       "            <td>4</td>\n",
       "        </tr>\n",
       "        <tr>\n",
       "            <td>3</td>\n",
       "            <td>Nombre3</td>\n",
       "            <td>Producto2</td>\n",
       "            <td>6</td>\n",
       "        </tr>\n",
       "    </tbody>\n",
       "</table>"
      ],
      "text/plain": [
       "[(2, 'Nombre2', 'Producto2', 4), (3, 'Nombre3', 'Producto2', 6)]"
      ]
     },
     "execution_count": 22,
     "metadata": {},
     "output_type": "execute_result"
    }
   ],
   "source": [
    "%%sql\n",
    "SELECT *\n",
    "FROM Productos;"
   ]
  },
  {
   "cell_type": "code",
   "execution_count": null,
   "metadata": {
    "id": "kcLE4g4hPG3a"
   },
   "outputs": [],
   "source": []
  },
  {
   "cell_type": "code",
   "execution_count": null,
   "metadata": {},
   "outputs": [],
   "source": []
  },
  {
   "cell_type": "code",
   "execution_count": null,
   "metadata": {},
   "outputs": [],
   "source": []
  },
  {
   "cell_type": "code",
   "execution_count": null,
   "metadata": {},
   "outputs": [],
   "source": []
  }
 ],
 "metadata": {
  "colab": {
   "name": "Actividad Diplomado.ipynb",
   "provenance": []
  },
  "kernelspec": {
   "display_name": "Python 3 (ipykernel)",
   "language": "python",
   "name": "python3"
  },
  "language_info": {
   "codemirror_mode": {
    "name": "ipython",
    "version": 3
   },
   "file_extension": ".py",
   "mimetype": "text/x-python",
   "name": "python",
   "nbconvert_exporter": "python",
   "pygments_lexer": "ipython3",
   "version": "3.11.5"
  }
 },
 "nbformat": 4,
 "nbformat_minor": 1
}
